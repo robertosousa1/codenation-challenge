{
  "nbformat": 4,
  "nbformat_minor": 0,
  "metadata": {
    "kernelspec": {
      "display_name": "Python 3",
      "language": "python",
      "name": "python3"
    },
    "language_info": {
      "codemirror_mode": {
        "name": "ipython",
        "version": 3
      },
      "file_extension": ".py",
      "mimetype": "text/x-python",
      "name": "python",
      "nbconvert_exporter": "python",
      "pygments_lexer": "ipython3",
      "version": "3.6.5"
    },
    "colab": {
      "name": "Enem2016.ipynb",
      "provenance": [],
      "toc_visible": true,
      "include_colab_link": true
    }
  },
  "cells": [
    {
      "cell_type": "markdown",
      "metadata": {
        "id": "view-in-github",
        "colab_type": "text"
      },
      "source": [
        "<a href=\"https://colab.research.google.com/github/robertosousa1/codenation-challenge/blob/master/Enem2016.ipynb\" target=\"_parent\"><img src=\"https://colab.research.google.com/assets/colab-badge.svg\" alt=\"Open In Colab\"/></a>"
      ]
    },
    {
      "cell_type": "markdown",
      "metadata": {
        "id": "38apekT7bGwk",
        "colab_type": "text"
      },
      "source": [
        "## Codenation Challenge: Prediction of the math grades of students in enem 2016"
      ]
    },
    {
      "cell_type": "code",
      "metadata": {
        "id": "IDtYSOKrbGwl",
        "colab_type": "code",
        "colab": {}
      },
      "source": [
        "import numpy as np\n",
        "import pandas as pd\n",
        "from sklearn import preprocessing\n",
        "import matplotlib.pyplot as plt\n",
        "import seaborn as sns\n",
        "import warnings\n",
        "warnings.filterwarnings('ignore')"
      ],
      "execution_count": 0,
      "outputs": []
    },
    {
      "cell_type": "code",
      "metadata": {
        "id": "rGNMU9_9bGwq",
        "colab_type": "code",
        "colab": {}
      },
      "source": [
        "# Import csv's\n",
        "df_train = pd.read_csv(r\"train.csv\")\n",
        "df_test= pd.read_csv(r\"test.csv\")"
      ],
      "execution_count": 0,
      "outputs": []
    },
    {
      "cell_type": "code",
      "metadata": {
        "id": "4tTY6SAObGwt",
        "colab_type": "code",
        "colab": {
          "base_uri": "https://localhost:8080/",
          "height": 270
        },
        "outputId": "d5fcf2a2-bc1b-435c-9771-bc47e0943566"
      },
      "source": [
        "#Take a look at the data\n",
        "df_train.head()"
      ],
      "execution_count": 29,
      "outputs": [
        {
          "output_type": "execute_result",
          "data": {
            "text/html": [
              "<div>\n",
              "<style scoped>\n",
              "    .dataframe tbody tr th:only-of-type {\n",
              "        vertical-align: middle;\n",
              "    }\n",
              "\n",
              "    .dataframe tbody tr th {\n",
              "        vertical-align: top;\n",
              "    }\n",
              "\n",
              "    .dataframe thead th {\n",
              "        text-align: right;\n",
              "    }\n",
              "</style>\n",
              "<table border=\"1\" class=\"dataframe\">\n",
              "  <thead>\n",
              "    <tr style=\"text-align: right;\">\n",
              "      <th></th>\n",
              "      <th>Unnamed: 0</th>\n",
              "      <th>NU_INSCRICAO</th>\n",
              "      <th>NU_ANO</th>\n",
              "      <th>CO_MUNICIPIO_RESIDENCIA</th>\n",
              "      <th>NO_MUNICIPIO_RESIDENCIA</th>\n",
              "      <th>CO_UF_RESIDENCIA</th>\n",
              "      <th>SG_UF_RESIDENCIA</th>\n",
              "      <th>NU_IDADE</th>\n",
              "      <th>TP_SEXO</th>\n",
              "      <th>TP_ESTADO_CIVIL</th>\n",
              "      <th>TP_COR_RACA</th>\n",
              "      <th>TP_NACIONALIDADE</th>\n",
              "      <th>CO_MUNICIPIO_NASCIMENTO</th>\n",
              "      <th>NO_MUNICIPIO_NASCIMENTO</th>\n",
              "      <th>CO_UF_NASCIMENTO</th>\n",
              "      <th>SG_UF_NASCIMENTO</th>\n",
              "      <th>TP_ST_CONCLUSAO</th>\n",
              "      <th>TP_ANO_CONCLUIU</th>\n",
              "      <th>TP_ESCOLA</th>\n",
              "      <th>TP_ENSINO</th>\n",
              "      <th>IN_TREINEIRO</th>\n",
              "      <th>CO_ESCOLA</th>\n",
              "      <th>CO_MUNICIPIO_ESC</th>\n",
              "      <th>NO_MUNICIPIO_ESC</th>\n",
              "      <th>CO_UF_ESC</th>\n",
              "      <th>SG_UF_ESC</th>\n",
              "      <th>TP_DEPENDENCIA_ADM_ESC</th>\n",
              "      <th>TP_LOCALIZACAO_ESC</th>\n",
              "      <th>TP_SIT_FUNC_ESC</th>\n",
              "      <th>IN_BAIXA_VISAO</th>\n",
              "      <th>IN_CEGUEIRA</th>\n",
              "      <th>IN_SURDEZ</th>\n",
              "      <th>IN_DEFICIENCIA_AUDITIVA</th>\n",
              "      <th>IN_SURDO_CEGUEIRA</th>\n",
              "      <th>IN_DEFICIENCIA_FISICA</th>\n",
              "      <th>IN_DEFICIENCIA_MENTAL</th>\n",
              "      <th>IN_DEFICIT_ATENCAO</th>\n",
              "      <th>IN_DISLEXIA</th>\n",
              "      <th>IN_DISCALCULIA</th>\n",
              "      <th>IN_AUTISMO</th>\n",
              "      <th>...</th>\n",
              "      <th>Q011</th>\n",
              "      <th>Q012</th>\n",
              "      <th>Q013</th>\n",
              "      <th>Q014</th>\n",
              "      <th>Q015</th>\n",
              "      <th>Q016</th>\n",
              "      <th>Q017</th>\n",
              "      <th>Q018</th>\n",
              "      <th>Q019</th>\n",
              "      <th>Q020</th>\n",
              "      <th>Q021</th>\n",
              "      <th>Q022</th>\n",
              "      <th>Q023</th>\n",
              "      <th>Q024</th>\n",
              "      <th>Q025</th>\n",
              "      <th>Q026</th>\n",
              "      <th>Q027</th>\n",
              "      <th>Q028</th>\n",
              "      <th>Q029</th>\n",
              "      <th>Q030</th>\n",
              "      <th>Q031</th>\n",
              "      <th>Q032</th>\n",
              "      <th>Q033</th>\n",
              "      <th>Q034</th>\n",
              "      <th>Q035</th>\n",
              "      <th>Q036</th>\n",
              "      <th>Q037</th>\n",
              "      <th>Q038</th>\n",
              "      <th>Q039</th>\n",
              "      <th>Q040</th>\n",
              "      <th>Q041</th>\n",
              "      <th>Q042</th>\n",
              "      <th>Q043</th>\n",
              "      <th>Q044</th>\n",
              "      <th>Q045</th>\n",
              "      <th>Q046</th>\n",
              "      <th>Q047</th>\n",
              "      <th>Q048</th>\n",
              "      <th>Q049</th>\n",
              "      <th>Q050</th>\n",
              "    </tr>\n",
              "  </thead>\n",
              "  <tbody>\n",
              "    <tr>\n",
              "      <th>0</th>\n",
              "      <td>1</td>\n",
              "      <td>ed50e8aaa58e7a806c337585efee9ca41f1eb1ad</td>\n",
              "      <td>2016</td>\n",
              "      <td>4314902</td>\n",
              "      <td>Porto Alegre</td>\n",
              "      <td>43</td>\n",
              "      <td>RS</td>\n",
              "      <td>24</td>\n",
              "      <td>M</td>\n",
              "      <td>0.0</td>\n",
              "      <td>1</td>\n",
              "      <td>1</td>\n",
              "      <td>4314902.0</td>\n",
              "      <td>Porto Alegre</td>\n",
              "      <td>43.0</td>\n",
              "      <td>RS</td>\n",
              "      <td>1</td>\n",
              "      <td>4</td>\n",
              "      <td>1</td>\n",
              "      <td>NaN</td>\n",
              "      <td>0</td>\n",
              "      <td>NaN</td>\n",
              "      <td>NaN</td>\n",
              "      <td>NaN</td>\n",
              "      <td>NaN</td>\n",
              "      <td>NaN</td>\n",
              "      <td>NaN</td>\n",
              "      <td>NaN</td>\n",
              "      <td>NaN</td>\n",
              "      <td>0</td>\n",
              "      <td>0</td>\n",
              "      <td>0</td>\n",
              "      <td>0</td>\n",
              "      <td>0</td>\n",
              "      <td>0</td>\n",
              "      <td>0</td>\n",
              "      <td>0</td>\n",
              "      <td>0</td>\n",
              "      <td>0</td>\n",
              "      <td>0</td>\n",
              "      <td>...</td>\n",
              "      <td>A</td>\n",
              "      <td>B</td>\n",
              "      <td>A</td>\n",
              "      <td>A</td>\n",
              "      <td>A</td>\n",
              "      <td>A</td>\n",
              "      <td>A</td>\n",
              "      <td>A</td>\n",
              "      <td>B</td>\n",
              "      <td>A</td>\n",
              "      <td>A</td>\n",
              "      <td>C</td>\n",
              "      <td>A</td>\n",
              "      <td>A</td>\n",
              "      <td>A</td>\n",
              "      <td>C</td>\n",
              "      <td>H</td>\n",
              "      <td>E</td>\n",
              "      <td>5.0</td>\n",
              "      <td>5.0</td>\n",
              "      <td>1.0</td>\n",
              "      <td>0.0</td>\n",
              "      <td>0.0</td>\n",
              "      <td>5</td>\n",
              "      <td>5</td>\n",
              "      <td>0</td>\n",
              "      <td>5</td>\n",
              "      <td>5</td>\n",
              "      <td>5</td>\n",
              "      <td>5</td>\n",
              "      <td>5.0</td>\n",
              "      <td>A</td>\n",
              "      <td>A</td>\n",
              "      <td>A</td>\n",
              "      <td>A</td>\n",
              "      <td>A</td>\n",
              "      <td>A</td>\n",
              "      <td>A</td>\n",
              "      <td>B</td>\n",
              "      <td>D</td>\n",
              "    </tr>\n",
              "    <tr>\n",
              "      <th>1</th>\n",
              "      <td>2</td>\n",
              "      <td>2c3acac4b33ec2b195d77e7c04a2d75727fad723</td>\n",
              "      <td>2016</td>\n",
              "      <td>2304707</td>\n",
              "      <td>Granja</td>\n",
              "      <td>23</td>\n",
              "      <td>CE</td>\n",
              "      <td>17</td>\n",
              "      <td>F</td>\n",
              "      <td>0.0</td>\n",
              "      <td>3</td>\n",
              "      <td>1</td>\n",
              "      <td>2304707.0</td>\n",
              "      <td>Granja</td>\n",
              "      <td>23.0</td>\n",
              "      <td>CE</td>\n",
              "      <td>2</td>\n",
              "      <td>0</td>\n",
              "      <td>2</td>\n",
              "      <td>1.0</td>\n",
              "      <td>0</td>\n",
              "      <td>23005157.0</td>\n",
              "      <td>2304707.0</td>\n",
              "      <td>Granja</td>\n",
              "      <td>23.0</td>\n",
              "      <td>CE</td>\n",
              "      <td>2.0</td>\n",
              "      <td>1.0</td>\n",
              "      <td>1.0</td>\n",
              "      <td>0</td>\n",
              "      <td>0</td>\n",
              "      <td>0</td>\n",
              "      <td>0</td>\n",
              "      <td>0</td>\n",
              "      <td>0</td>\n",
              "      <td>0</td>\n",
              "      <td>0</td>\n",
              "      <td>0</td>\n",
              "      <td>0</td>\n",
              "      <td>0</td>\n",
              "      <td>...</td>\n",
              "      <td>A</td>\n",
              "      <td>B</td>\n",
              "      <td>A</td>\n",
              "      <td>A</td>\n",
              "      <td>A</td>\n",
              "      <td>A</td>\n",
              "      <td>A</td>\n",
              "      <td>A</td>\n",
              "      <td>B</td>\n",
              "      <td>A</td>\n",
              "      <td>A</td>\n",
              "      <td>A</td>\n",
              "      <td>A</td>\n",
              "      <td>A</td>\n",
              "      <td>A</td>\n",
              "      <td>A</td>\n",
              "      <td>NaN</td>\n",
              "      <td>NaN</td>\n",
              "      <td>NaN</td>\n",
              "      <td>NaN</td>\n",
              "      <td>NaN</td>\n",
              "      <td>NaN</td>\n",
              "      <td>NaN</td>\n",
              "      <td>5</td>\n",
              "      <td>5</td>\n",
              "      <td>1</td>\n",
              "      <td>1</td>\n",
              "      <td>1</td>\n",
              "      <td>1</td>\n",
              "      <td>1</td>\n",
              "      <td>NaN</td>\n",
              "      <td>A</td>\n",
              "      <td>A</td>\n",
              "      <td>C</td>\n",
              "      <td>A</td>\n",
              "      <td>B</td>\n",
              "      <td>A</td>\n",
              "      <td>A</td>\n",
              "      <td>C</td>\n",
              "      <td>A</td>\n",
              "    </tr>\n",
              "    <tr>\n",
              "      <th>2</th>\n",
              "      <td>3</td>\n",
              "      <td>f4545f8ccb9ff5c8aad7d32951b3f251a26e6568</td>\n",
              "      <td>2016</td>\n",
              "      <td>2304400</td>\n",
              "      <td>Fortaleza</td>\n",
              "      <td>23</td>\n",
              "      <td>CE</td>\n",
              "      <td>21</td>\n",
              "      <td>F</td>\n",
              "      <td>0.0</td>\n",
              "      <td>3</td>\n",
              "      <td>1</td>\n",
              "      <td>2304400.0</td>\n",
              "      <td>Fortaleza</td>\n",
              "      <td>23.0</td>\n",
              "      <td>CE</td>\n",
              "      <td>3</td>\n",
              "      <td>0</td>\n",
              "      <td>1</td>\n",
              "      <td>NaN</td>\n",
              "      <td>0</td>\n",
              "      <td>NaN</td>\n",
              "      <td>NaN</td>\n",
              "      <td>NaN</td>\n",
              "      <td>NaN</td>\n",
              "      <td>NaN</td>\n",
              "      <td>NaN</td>\n",
              "      <td>NaN</td>\n",
              "      <td>NaN</td>\n",
              "      <td>0</td>\n",
              "      <td>0</td>\n",
              "      <td>0</td>\n",
              "      <td>0</td>\n",
              "      <td>0</td>\n",
              "      <td>0</td>\n",
              "      <td>0</td>\n",
              "      <td>0</td>\n",
              "      <td>0</td>\n",
              "      <td>0</td>\n",
              "      <td>0</td>\n",
              "      <td>...</td>\n",
              "      <td>A</td>\n",
              "      <td>B</td>\n",
              "      <td>A</td>\n",
              "      <td>A</td>\n",
              "      <td>A</td>\n",
              "      <td>A</td>\n",
              "      <td>A</td>\n",
              "      <td>A</td>\n",
              "      <td>B</td>\n",
              "      <td>A</td>\n",
              "      <td>A</td>\n",
              "      <td>B</td>\n",
              "      <td>A</td>\n",
              "      <td>A</td>\n",
              "      <td>A</td>\n",
              "      <td>A</td>\n",
              "      <td>NaN</td>\n",
              "      <td>NaN</td>\n",
              "      <td>NaN</td>\n",
              "      <td>NaN</td>\n",
              "      <td>NaN</td>\n",
              "      <td>NaN</td>\n",
              "      <td>NaN</td>\n",
              "      <td>5</td>\n",
              "      <td>5</td>\n",
              "      <td>5</td>\n",
              "      <td>5</td>\n",
              "      <td>5</td>\n",
              "      <td>5</td>\n",
              "      <td>5</td>\n",
              "      <td>NaN</td>\n",
              "      <td>A</td>\n",
              "      <td>A</td>\n",
              "      <td>A</td>\n",
              "      <td>A</td>\n",
              "      <td>C</td>\n",
              "      <td>A</td>\n",
              "      <td>A</td>\n",
              "      <td>B</td>\n",
              "      <td>A</td>\n",
              "    </tr>\n",
              "    <tr>\n",
              "      <th>3</th>\n",
              "      <td>4</td>\n",
              "      <td>3d6ec248fef899c414e77f82d5c6d2bffbeaf7fe</td>\n",
              "      <td>2016</td>\n",
              "      <td>3304557</td>\n",
              "      <td>Rio de Janeiro</td>\n",
              "      <td>33</td>\n",
              "      <td>RJ</td>\n",
              "      <td>25</td>\n",
              "      <td>F</td>\n",
              "      <td>0.0</td>\n",
              "      <td>0</td>\n",
              "      <td>1</td>\n",
              "      <td>3304557.0</td>\n",
              "      <td>Rio de Janeiro</td>\n",
              "      <td>33.0</td>\n",
              "      <td>RJ</td>\n",
              "      <td>1</td>\n",
              "      <td>9</td>\n",
              "      <td>1</td>\n",
              "      <td>NaN</td>\n",
              "      <td>0</td>\n",
              "      <td>NaN</td>\n",
              "      <td>NaN</td>\n",
              "      <td>NaN</td>\n",
              "      <td>NaN</td>\n",
              "      <td>NaN</td>\n",
              "      <td>NaN</td>\n",
              "      <td>NaN</td>\n",
              "      <td>NaN</td>\n",
              "      <td>0</td>\n",
              "      <td>0</td>\n",
              "      <td>0</td>\n",
              "      <td>0</td>\n",
              "      <td>0</td>\n",
              "      <td>0</td>\n",
              "      <td>0</td>\n",
              "      <td>0</td>\n",
              "      <td>0</td>\n",
              "      <td>0</td>\n",
              "      <td>0</td>\n",
              "      <td>...</td>\n",
              "      <td>A</td>\n",
              "      <td>B</td>\n",
              "      <td>B</td>\n",
              "      <td>B</td>\n",
              "      <td>A</td>\n",
              "      <td>B</td>\n",
              "      <td>A</td>\n",
              "      <td>B</td>\n",
              "      <td>C</td>\n",
              "      <td>A</td>\n",
              "      <td>B</td>\n",
              "      <td>D</td>\n",
              "      <td>B</td>\n",
              "      <td>C</td>\n",
              "      <td>B</td>\n",
              "      <td>C</td>\n",
              "      <td>F</td>\n",
              "      <td>C</td>\n",
              "      <td>2.0</td>\n",
              "      <td>0.0</td>\n",
              "      <td>5.0</td>\n",
              "      <td>5.0</td>\n",
              "      <td>5.0</td>\n",
              "      <td>5</td>\n",
              "      <td>5</td>\n",
              "      <td>5</td>\n",
              "      <td>5</td>\n",
              "      <td>2</td>\n",
              "      <td>5</td>\n",
              "      <td>5</td>\n",
              "      <td>5.0</td>\n",
              "      <td>C</td>\n",
              "      <td>A</td>\n",
              "      <td>A</td>\n",
              "      <td>A</td>\n",
              "      <td>A</td>\n",
              "      <td>D</td>\n",
              "      <td>A</td>\n",
              "      <td>A</td>\n",
              "      <td>A</td>\n",
              "    </tr>\n",
              "    <tr>\n",
              "      <th>4</th>\n",
              "      <td>5</td>\n",
              "      <td>bf896ac8d3ecadd6dba1dfbf50110afcbf5d3268</td>\n",
              "      <td>2016</td>\n",
              "      <td>1302603</td>\n",
              "      <td>Manaus</td>\n",
              "      <td>13</td>\n",
              "      <td>AM</td>\n",
              "      <td>28</td>\n",
              "      <td>M</td>\n",
              "      <td>0.0</td>\n",
              "      <td>2</td>\n",
              "      <td>1</td>\n",
              "      <td>1505304.0</td>\n",
              "      <td>Oriximiná</td>\n",
              "      <td>15.0</td>\n",
              "      <td>PA</td>\n",
              "      <td>1</td>\n",
              "      <td>4</td>\n",
              "      <td>1</td>\n",
              "      <td>NaN</td>\n",
              "      <td>0</td>\n",
              "      <td>NaN</td>\n",
              "      <td>NaN</td>\n",
              "      <td>NaN</td>\n",
              "      <td>NaN</td>\n",
              "      <td>NaN</td>\n",
              "      <td>NaN</td>\n",
              "      <td>NaN</td>\n",
              "      <td>NaN</td>\n",
              "      <td>0</td>\n",
              "      <td>0</td>\n",
              "      <td>0</td>\n",
              "      <td>0</td>\n",
              "      <td>0</td>\n",
              "      <td>0</td>\n",
              "      <td>0</td>\n",
              "      <td>0</td>\n",
              "      <td>0</td>\n",
              "      <td>0</td>\n",
              "      <td>0</td>\n",
              "      <td>...</td>\n",
              "      <td>A</td>\n",
              "      <td>B</td>\n",
              "      <td>A</td>\n",
              "      <td>B</td>\n",
              "      <td>A</td>\n",
              "      <td>A</td>\n",
              "      <td>A</td>\n",
              "      <td>A</td>\n",
              "      <td>B</td>\n",
              "      <td>A</td>\n",
              "      <td>A</td>\n",
              "      <td>B</td>\n",
              "      <td>A</td>\n",
              "      <td>A</td>\n",
              "      <td>A</td>\n",
              "      <td>B</td>\n",
              "      <td>F</td>\n",
              "      <td>D</td>\n",
              "      <td>5.0</td>\n",
              "      <td>4.0</td>\n",
              "      <td>3.0</td>\n",
              "      <td>5.0</td>\n",
              "      <td>4.0</td>\n",
              "      <td>5</td>\n",
              "      <td>5</td>\n",
              "      <td>4</td>\n",
              "      <td>3</td>\n",
              "      <td>1</td>\n",
              "      <td>4</td>\n",
              "      <td>5</td>\n",
              "      <td>NaN</td>\n",
              "      <td>A</td>\n",
              "      <td>A</td>\n",
              "      <td>A</td>\n",
              "      <td>A</td>\n",
              "      <td>A</td>\n",
              "      <td>A</td>\n",
              "      <td>A</td>\n",
              "      <td>A</td>\n",
              "      <td>A</td>\n",
              "    </tr>\n",
              "  </tbody>\n",
              "</table>\n",
              "<p>5 rows × 167 columns</p>\n",
              "</div>"
            ],
            "text/plain": [
              "   Unnamed: 0                              NU_INSCRICAO  ...  Q049  Q050\n",
              "0           1  ed50e8aaa58e7a806c337585efee9ca41f1eb1ad  ...     B     D\n",
              "1           2  2c3acac4b33ec2b195d77e7c04a2d75727fad723  ...     C     A\n",
              "2           3  f4545f8ccb9ff5c8aad7d32951b3f251a26e6568  ...     B     A\n",
              "3           4  3d6ec248fef899c414e77f82d5c6d2bffbeaf7fe  ...     A     A\n",
              "4           5  bf896ac8d3ecadd6dba1dfbf50110afcbf5d3268  ...     A     A\n",
              "\n",
              "[5 rows x 167 columns]"
            ]
          },
          "metadata": {
            "tags": []
          },
          "execution_count": 29
        }
      ]
    },
    {
      "cell_type": "code",
      "metadata": {
        "id": "7gEA4kz4bGwx",
        "colab_type": "code",
        "colab": {
          "base_uri": "https://localhost:8080/",
          "height": 105
        },
        "outputId": "640e15a3-0965-4ea1-e919-5d56ecd166b8"
      },
      "source": [
        "# Drop Different Columns from train and test\n",
        "target = 'NU_NOTA_MT'\n",
        "print('\\nTrain and Test Datasets have the same columns?:',\n",
        "      df_train.drop(target,axis=1).columns.tolist()==df_test.columns.tolist())\n",
        "print(\"\\nVariables not in test but in train : \", \n",
        "      set(df_train.drop(target,axis=1).columns).difference(set(df_test.columns)))\n",
        "dif = list(set(df_train.drop(target,axis=1).columns).difference(set(df_test.columns)))\n",
        "\n",
        "df_train.drop(dif,axis=1,inplace=True)"
      ],
      "execution_count": 30,
      "outputs": [
        {
          "output_type": "stream",
          "text": [
            "\n",
            "Train and Test Datasets have the same columns?: False\n",
            "\n",
            "Variables not in test but in train :  {'TX_RESPOSTAS_MT', 'TP_PRESENCA_MT', 'IN_SONDA', 'IN_BRAILLE', 'Q038', 'Q022', 'CO_MUNICIPIO_PROVA', 'Q007', 'IN_LEDOR', 'Q030', 'Q045', 'CO_UF_NASCIMENTO', 'Q048', 'CO_UF_ENTIDADE_CERTIFICACAO', 'IN_ESTUDA_CLASSE_HOSPITALAR', 'TX_GABARITO_MT', 'IN_MOBILIARIO_ESPECIFICO', 'Q036', 'TX_GABARITO_CH', 'IN_ACESSO', 'Q009', 'IN_CADEIRA_ACOLCHOADA', 'Q042', 'TP_LOCALIZACAO_ESC', 'NO_ENTIDADE_CERTIFICACAO', 'CO_MUNICIPIO_ESC', 'IN_SALA_ACOMPANHANTE', 'IN_DEFICIENCIA_MENTAL', 'IN_CERTIFICADO', 'TX_GABARITO_LC', 'Q019', 'Q003', 'NO_MUNICIPIO_NASCIMENTO', 'NU_ANO', 'Q008', 'Q020', 'CO_MUNICIPIO_RESIDENCIA', 'TX_GABARITO_CN', 'IN_APOIO_PERNA', 'IN_COMPUTADOR', 'Q044', 'Q004', 'Q005', 'IN_CADEIRA_CANHOTO', 'Q049', 'CO_UF_ESC', 'IN_MACA', 'Q037', 'Q035', 'Q018', 'Q033', 'IN_LAMINA_OVERLAY', 'Q023', 'Q029', 'Unnamed: 0', 'IN_SURDO_CEGUEIRA', 'IN_DEFICIENCIA_AUDITIVA', 'SG_UF_PROVA', 'Q021', 'IN_AUTISMO', 'Q046', 'Q028', 'NO_MUNICIPIO_ESC', 'Q015', 'IN_SALA_INDIVIDUAL', 'IN_DEFICIT_ATENCAO', 'CO_UF_PROVA', 'IN_SOROBAN', 'IN_MAQUINA_BRAILE', 'IN_OUTRA_DEF', 'IN_AMPLIADA_18', 'IN_NOME_SOCIAL', 'IN_SEM_RECURSO', 'IN_MARCA_PASSO', 'NO_MUNICIPIO_PROVA', 'IN_LIBRAS', 'Q010', 'Q034', 'TX_RESPOSTAS_LC', 'Q032', 'TP_ESTADO_CIVIL', 'IN_PROVA_DEITADO', 'IN_MOBILIARIO_OBESO', 'IN_SALA_ESPECIAL', 'IN_TRANSCRICAO', 'Q039', 'IN_AMPLIADA_24', 'IN_VISAO_MONOCULAR', 'Q016', 'IN_MEDIDOR_GLICOSE', 'Q041', 'IN_GUIA_INTERPRETE', 'Q031', 'SG_UF_ENTIDADE_CERTIFICACAO', 'TX_RESPOSTAS_CN', 'Q011', 'IN_DEFICIENCIA_FISICA', 'Q013', 'Q050', 'Q014', 'IN_MESA_CADEIRA_RODAS', 'IN_MEDICAMENTOS', 'SG_UF_ESC', 'TP_SIT_FUNC_ESC', 'IN_LEITURA_LABIAL', 'IN_PROTETOR_AURICULAR', 'IN_MATERIAL_ESPECIFICO', 'IN_MESA_CADEIRA_SEPARADA', 'IN_LACTANTE', 'TX_RESPOSTAS_CH', 'NO_MUNICIPIO_RESIDENCIA', 'SG_UF_NASCIMENTO', 'Q017', 'CO_ESCOLA', 'Q012', 'Q043', 'IN_CADEIRA_ESPECIAL', 'CO_MUNICIPIO_NASCIMENTO', 'Q040'}\n"
          ],
          "name": "stdout"
        }
      ]
    },
    {
      "cell_type": "code",
      "metadata": {
        "id": "Jl3F8tUUbGwz",
        "colab_type": "code",
        "colab": {
          "base_uri": "https://localhost:8080/",
          "height": 34
        },
        "outputId": "8d46fd84-fa70-40ad-eb3b-5917784ecf9a"
      },
      "source": [
        "df_train.shape"
      ],
      "execution_count": 31,
      "outputs": [
        {
          "output_type": "execute_result",
          "data": {
            "text/plain": [
              "(13730, 48)"
            ]
          },
          "metadata": {
            "tags": []
          },
          "execution_count": 31
        }
      ]
    },
    {
      "cell_type": "code",
      "metadata": {
        "id": "C42HQ-LfbGw6",
        "colab_type": "code",
        "colab": {
          "base_uri": "https://localhost:8080/",
          "height": 34
        },
        "outputId": "6d2efdf8-8c39-49f6-bbe0-f597f069eb5b"
      },
      "source": [
        "df_test.shape"
      ],
      "execution_count": 32,
      "outputs": [
        {
          "output_type": "execute_result",
          "data": {
            "text/plain": [
              "(4576, 47)"
            ]
          },
          "metadata": {
            "tags": []
          },
          "execution_count": 32
        }
      ]
    },
    {
      "cell_type": "code",
      "metadata": {
        "id": "OgT0vwzVbGw8",
        "colab_type": "code",
        "colab": {
          "base_uri": "https://localhost:8080/",
          "height": 34
        },
        "outputId": "f102818b-3be1-49bf-e4bd-b4d8910c7162"
      },
      "source": [
        "# Check Columns with constant values\n",
        "dropcols_train = [c for c in df_train.columns if (df_train[c].nunique()==1) & (df_train[c].isnull().sum() == 0)]\n",
        "dropcols_train"
      ],
      "execution_count": 33,
      "outputs": [
        {
          "output_type": "execute_result",
          "data": {
            "text/plain": [
              "['IN_CEGUEIRA']"
            ]
          },
          "metadata": {
            "tags": []
          },
          "execution_count": 33
        }
      ]
    },
    {
      "cell_type": "code",
      "metadata": {
        "id": "uSY5bnFfbGxE",
        "colab_type": "code",
        "colab": {}
      },
      "source": [
        "#Columns to be dropped\n",
        "cols_to_drop = dropcols_train + ['NU_INSCRICAO']"
      ],
      "execution_count": 0,
      "outputs": []
    },
    {
      "cell_type": "code",
      "metadata": {
        "id": "-8kXnTjabGxM",
        "colab_type": "code",
        "colab": {}
      },
      "source": [
        "# Store and Drops Id's from datasets, and Target from Train Dataset\n",
        "ID = 'NU_INSCRICAO'\n",
        "y_train = df_train[target].values\n",
        "train_id = df_train[ID].values\n",
        "test_id = df_test[ID].values"
      ],
      "execution_count": 0,
      "outputs": []
    },
    {
      "cell_type": "code",
      "metadata": {
        "id": "2KB8S7uvbGxO",
        "colab_type": "code",
        "colab": {}
      },
      "source": [
        "#Merge Data before preprocessing:\n",
        "df_merge = pd.concat([df_train.drop(target,axis=1),df_test],axis=0)\n",
        "df_merge.drop(cols_to_drop,axis=1,inplace=True)"
      ],
      "execution_count": 0,
      "outputs": []
    },
    {
      "cell_type": "code",
      "metadata": {
        "id": "6cp_dQeMbGxW",
        "colab_type": "code",
        "colab": {
          "base_uri": "https://localhost:8080/",
          "height": 669
        },
        "outputId": "70ae5901-000f-48a2-b5cc-239353af115a"
      },
      "source": [
        "#Missing Data on Merge Dataset\n",
        "total = df_merge.isnull().sum().sort_values(ascending=False)\n",
        "percent = (df_merge.isnull().sum()/df_merge.isnull().count()).sort_values(ascending=False)\n",
        "missing_data = pd.concat([total, percent], axis=1, keys=['Total', 'Percent'])\n",
        "missing_data.head(20)"
      ],
      "execution_count": 37,
      "outputs": [
        {
          "output_type": "execute_result",
          "data": {
            "text/html": [
              "<div>\n",
              "<style scoped>\n",
              "    .dataframe tbody tr th:only-of-type {\n",
              "        vertical-align: middle;\n",
              "    }\n",
              "\n",
              "    .dataframe tbody tr th {\n",
              "        vertical-align: top;\n",
              "    }\n",
              "\n",
              "    .dataframe thead th {\n",
              "        text-align: right;\n",
              "    }\n",
              "</style>\n",
              "<table border=\"1\" class=\"dataframe\">\n",
              "  <thead>\n",
              "    <tr style=\"text-align: right;\">\n",
              "      <th></th>\n",
              "      <th>Total</th>\n",
              "      <th>Percent</th>\n",
              "    </tr>\n",
              "  </thead>\n",
              "  <tbody>\n",
              "    <tr>\n",
              "      <th>TP_ENSINO</th>\n",
              "      <td>12544</td>\n",
              "      <td>0.685240</td>\n",
              "    </tr>\n",
              "    <tr>\n",
              "      <th>TP_DEPENDENCIA_ADM_ESC</th>\n",
              "      <td>12544</td>\n",
              "      <td>0.685240</td>\n",
              "    </tr>\n",
              "    <tr>\n",
              "      <th>Q027</th>\n",
              "      <td>9861</td>\n",
              "      <td>0.538676</td>\n",
              "    </tr>\n",
              "    <tr>\n",
              "      <th>TP_STATUS_REDACAO</th>\n",
              "      <td>4796</td>\n",
              "      <td>0.261991</td>\n",
              "    </tr>\n",
              "    <tr>\n",
              "      <th>NU_NOTA_COMP4</th>\n",
              "      <td>4796</td>\n",
              "      <td>0.261991</td>\n",
              "    </tr>\n",
              "    <tr>\n",
              "      <th>NU_NOTA_LC</th>\n",
              "      <td>4796</td>\n",
              "      <td>0.261991</td>\n",
              "    </tr>\n",
              "    <tr>\n",
              "      <th>NU_NOTA_COMP1</th>\n",
              "      <td>4796</td>\n",
              "      <td>0.261991</td>\n",
              "    </tr>\n",
              "    <tr>\n",
              "      <th>NU_NOTA_COMP2</th>\n",
              "      <td>4796</td>\n",
              "      <td>0.261991</td>\n",
              "    </tr>\n",
              "    <tr>\n",
              "      <th>NU_NOTA_COMP3</th>\n",
              "      <td>4796</td>\n",
              "      <td>0.261991</td>\n",
              "    </tr>\n",
              "    <tr>\n",
              "      <th>NU_NOTA_COMP5</th>\n",
              "      <td>4796</td>\n",
              "      <td>0.261991</td>\n",
              "    </tr>\n",
              "    <tr>\n",
              "      <th>NU_NOTA_REDACAO</th>\n",
              "      <td>4796</td>\n",
              "      <td>0.261991</td>\n",
              "    </tr>\n",
              "    <tr>\n",
              "      <th>NU_NOTA_CN</th>\n",
              "      <td>4523</td>\n",
              "      <td>0.247077</td>\n",
              "    </tr>\n",
              "    <tr>\n",
              "      <th>NU_NOTA_CH</th>\n",
              "      <td>4523</td>\n",
              "      <td>0.247077</td>\n",
              "    </tr>\n",
              "    <tr>\n",
              "      <th>IN_TREINEIRO</th>\n",
              "      <td>0</td>\n",
              "      <td>0.000000</td>\n",
              "    </tr>\n",
              "    <tr>\n",
              "      <th>IN_BAIXA_VISAO</th>\n",
              "      <td>0</td>\n",
              "      <td>0.000000</td>\n",
              "    </tr>\n",
              "    <tr>\n",
              "      <th>IN_SURDEZ</th>\n",
              "      <td>0</td>\n",
              "      <td>0.000000</td>\n",
              "    </tr>\n",
              "    <tr>\n",
              "      <th>TP_ESCOLA</th>\n",
              "      <td>0</td>\n",
              "      <td>0.000000</td>\n",
              "    </tr>\n",
              "    <tr>\n",
              "      <th>IN_DISLEXIA</th>\n",
              "      <td>0</td>\n",
              "      <td>0.000000</td>\n",
              "    </tr>\n",
              "    <tr>\n",
              "      <th>Q047</th>\n",
              "      <td>0</td>\n",
              "      <td>0.000000</td>\n",
              "    </tr>\n",
              "    <tr>\n",
              "      <th>TP_ANO_CONCLUIU</th>\n",
              "      <td>0</td>\n",
              "      <td>0.000000</td>\n",
              "    </tr>\n",
              "  </tbody>\n",
              "</table>\n",
              "</div>"
            ],
            "text/plain": [
              "                        Total   Percent\n",
              "TP_ENSINO               12544  0.685240\n",
              "TP_DEPENDENCIA_ADM_ESC  12544  0.685240\n",
              "Q027                     9861  0.538676\n",
              "TP_STATUS_REDACAO        4796  0.261991\n",
              "NU_NOTA_COMP4            4796  0.261991\n",
              "NU_NOTA_LC               4796  0.261991\n",
              "NU_NOTA_COMP1            4796  0.261991\n",
              "NU_NOTA_COMP2            4796  0.261991\n",
              "NU_NOTA_COMP3            4796  0.261991\n",
              "NU_NOTA_COMP5            4796  0.261991\n",
              "NU_NOTA_REDACAO          4796  0.261991\n",
              "NU_NOTA_CN               4523  0.247077\n",
              "NU_NOTA_CH               4523  0.247077\n",
              "IN_TREINEIRO                0  0.000000\n",
              "IN_BAIXA_VISAO              0  0.000000\n",
              "IN_SURDEZ                   0  0.000000\n",
              "TP_ESCOLA                   0  0.000000\n",
              "IN_DISLEXIA                 0  0.000000\n",
              "Q047                        0  0.000000\n",
              "TP_ANO_CONCLUIU             0  0.000000"
            ]
          },
          "metadata": {
            "tags": []
          },
          "execution_count": 37
        }
      ]
    },
    {
      "cell_type": "markdown",
      "metadata": {
        "id": "TBO_XE4zbGxe",
        "colab_type": "text"
      },
      "source": [
        "### Filling Missing Data"
      ]
    },
    {
      "cell_type": "code",
      "metadata": {
        "id": "b8mPow-kbGxf",
        "colab_type": "code",
        "colab": {}
      },
      "source": [
        "df_merge['TP_ENSINO'].fillna(4,inplace=True) #'4' will represent the NaN class of this feature\n",
        "df_merge['TP_DEPENDENCIA_ADM_ESC'].fillna(5,inplace=True) #'5' will represent the NaN class of this feature\n",
        "df_merge['Q027'].fillna('None',inplace=True) #'None' will represent the NaN class of this feature"
      ],
      "execution_count": 0,
      "outputs": []
    },
    {
      "cell_type": "code",
      "metadata": {
        "id": "im06oIoGbGxh",
        "colab_type": "code",
        "colab": {
          "base_uri": "https://localhost:8080/",
          "height": 85
        },
        "outputId": "cec1f890-6c27-4704-a59f-2705fd0877d5"
      },
      "source": [
        "print('Missing Data on NU_NOTA_MT:',df_train[target].isnull().sum())\n",
        "print('Missing Data on NU_NOTA_CN:',df_train['NU_NOTA_CN'].isnull().sum())\n",
        "print('Missing Data on NU_NOTA_CH:',df_train['NU_NOTA_CH'].isnull().sum())\n",
        "print('Missing Data on NU_NOTA_REDACAO:',df_train['NU_NOTA_REDACAO'].isnull().sum())"
      ],
      "execution_count": 39,
      "outputs": [
        {
          "output_type": "stream",
          "text": [
            "Missing Data on NU_NOTA_MT: 3597\n",
            "Missing Data on NU_NOTA_CN: 3389\n",
            "Missing Data on NU_NOTA_CH: 3389\n",
            "Missing Data on NU_NOTA_REDACAO: 3597\n"
          ],
          "name": "stdout"
        }
      ]
    },
    {
      "cell_type": "markdown",
      "metadata": {
        "id": "pfmsmfZebGxj",
        "colab_type": "text"
      },
      "source": [
        "We can see that the NaN's are equal in NU_NOTA_MT and NU_NOTA_REDACAO, probably because these tests were applied in the same day. Therefore, we are not going to train our model in those days. We will use the feature 'TP_STATUS_REDACAO' to tell which rows we need to drop in df_train and df_test, because the NaN's from this feature indicates the examples which the student missed the Math/Redacao test day."
      ]
    },
    {
      "cell_type": "code",
      "metadata": {
        "id": "9uoy9bhibGxj",
        "colab_type": "code",
        "colab": {}
      },
      "source": [
        "# Restore datraframes df_train and df_test\n",
        "df_train = df_merge[:len(df_train)]\n",
        "df_train[target] = y_train.tolist()\n",
        "df_test = df_merge[len(df_train):]\n",
        "df_test[ID] = test_id\n",
        "df_train[ID] = train_id"
      ],
      "execution_count": 0,
      "outputs": []
    },
    {
      "cell_type": "markdown",
      "metadata": {
        "id": "5Y4fb1c9bGxn",
        "colab_type": "text"
      },
      "source": [
        "Store the examples in Test dataset which our answer will be NaN based on 'TP_STATUS_REDACAO':"
      ]
    },
    {
      "cell_type": "code",
      "metadata": {
        "id": "bcT7n20tbGxo",
        "colab_type": "code",
        "colab": {
          "base_uri": "https://localhost:8080/",
          "height": 221
        },
        "outputId": "c6cb7d2b-7df4-445e-de27-4cd44542711a"
      },
      "source": [
        "# Store ID's of Test Dataset which we will set the prediction result as NaN\n",
        "NaNs_ID = df_test.loc[df_test['TP_STATUS_REDACAO'].isnull(),ID]\n",
        "df_test = df_test[~df_test['TP_STATUS_REDACAO'].isnull()] #Remove those examples from test dataset\n",
        "df_train = df_train[~df_train['TP_STATUS_REDACAO'].isnull()] #Remove those examples from train dataset\n",
        "NaNs_ID"
      ],
      "execution_count": 41,
      "outputs": [
        {
          "output_type": "execute_result",
          "data": {
            "text/plain": [
              "3       70b682d9a3636be23f6120fa9d6b164eb3c6002d\n",
              "10      8b7c167ea7b55c8168ec60c3851b1b598a8fbd11\n",
              "11      db4da599aab5bb08dce27094a35fd3e36cd0abce\n",
              "16      fbfa8cde21a692b51fb86342110b4a334a0fcfdb\n",
              "17      ca8477c8493b09f34d17bb287f9bacf2dd744c32\n",
              "                          ...                   \n",
              "4543    098eabcd83d72785beca4cdff3d5cfbc71904a48\n",
              "4546    b8ec140a86a7a6e569f3eda9ae9083183ca2e386\n",
              "4547    40a9b86a4efdd7ab5ee6fc26de9a984946896deb\n",
              "4549    ec73ba109d1a91299e071b2a95f79c36c1c6e069\n",
              "4575    adf0d15b54317b6564ef56dad2b775bbb0ef50cc\n",
              "Name: NU_INSCRICAO, Length: 1199, dtype: object"
            ]
          },
          "metadata": {
            "tags": []
          },
          "execution_count": 41
        }
      ]
    },
    {
      "cell_type": "markdown",
      "metadata": {
        "id": "8rburD0GbGxs",
        "colab_type": "text"
      },
      "source": [
        "**Re-merging:** Now we can Re-Merge the datasets into the df_merge DataFrame and end our data-processing steps:"
      ]
    },
    {
      "cell_type": "code",
      "metadata": {
        "id": "5u4fbtEWbGxt",
        "colab_type": "code",
        "colab": {}
      },
      "source": [
        "y_train = df_train[target].values\n",
        "test_id = df_test[ID].values\n",
        "df_merge = pd.concat([df_train.drop(target,axis=1),df_test],axis=0)\n",
        "df_merge.drop(ID,axis=1,inplace=True)"
      ],
      "execution_count": 0,
      "outputs": []
    },
    {
      "cell_type": "markdown",
      "metadata": {
        "id": "gr0niw4tbGxy",
        "colab_type": "text"
      },
      "source": [
        "Let's check again the missing data on df_merge"
      ]
    },
    {
      "cell_type": "code",
      "metadata": {
        "id": "70D_aVGpbGxy",
        "colab_type": "code",
        "colab": {
          "base_uri": "https://localhost:8080/",
          "height": 359
        },
        "outputId": "6f958f72-e826-464c-e4f8-d46ee4e5cfb1"
      },
      "source": [
        "total = df_merge.isnull().sum().sort_values(ascending=False)\n",
        "percent = (df_merge.isnull().sum()/df_merge.isnull().count()).sort_values(ascending=False)\n",
        "missing_data = pd.concat([total, percent], axis=1, keys=['Total', 'Percent'])\n",
        "missing_data.head(10)"
      ],
      "execution_count": 43,
      "outputs": [
        {
          "output_type": "execute_result",
          "data": {
            "text/html": [
              "<div>\n",
              "<style scoped>\n",
              "    .dataframe tbody tr th:only-of-type {\n",
              "        vertical-align: middle;\n",
              "    }\n",
              "\n",
              "    .dataframe tbody tr th {\n",
              "        vertical-align: top;\n",
              "    }\n",
              "\n",
              "    .dataframe thead th {\n",
              "        text-align: right;\n",
              "    }\n",
              "</style>\n",
              "<table border=\"1\" class=\"dataframe\">\n",
              "  <thead>\n",
              "    <tr style=\"text-align: right;\">\n",
              "      <th></th>\n",
              "      <th>Total</th>\n",
              "      <th>Percent</th>\n",
              "    </tr>\n",
              "  </thead>\n",
              "  <tbody>\n",
              "    <tr>\n",
              "      <th>NU_NOTA_CN</th>\n",
              "      <td>53</td>\n",
              "      <td>0.003923</td>\n",
              "    </tr>\n",
              "    <tr>\n",
              "      <th>NU_NOTA_CH</th>\n",
              "      <td>53</td>\n",
              "      <td>0.003923</td>\n",
              "    </tr>\n",
              "    <tr>\n",
              "      <th>Q047</th>\n",
              "      <td>0</td>\n",
              "      <td>0.000000</td>\n",
              "    </tr>\n",
              "    <tr>\n",
              "      <th>TP_DEPENDENCIA_ADM_ESC</th>\n",
              "      <td>0</td>\n",
              "      <td>0.000000</td>\n",
              "    </tr>\n",
              "    <tr>\n",
              "      <th>IN_IDOSO</th>\n",
              "      <td>0</td>\n",
              "      <td>0.000000</td>\n",
              "    </tr>\n",
              "    <tr>\n",
              "      <th>IN_GESTANTE</th>\n",
              "      <td>0</td>\n",
              "      <td>0.000000</td>\n",
              "    </tr>\n",
              "    <tr>\n",
              "      <th>IN_SABATISTA</th>\n",
              "      <td>0</td>\n",
              "      <td>0.000000</td>\n",
              "    </tr>\n",
              "    <tr>\n",
              "      <th>IN_DISCALCULIA</th>\n",
              "      <td>0</td>\n",
              "      <td>0.000000</td>\n",
              "    </tr>\n",
              "    <tr>\n",
              "      <th>IN_DISLEXIA</th>\n",
              "      <td>0</td>\n",
              "      <td>0.000000</td>\n",
              "    </tr>\n",
              "    <tr>\n",
              "      <th>IN_SURDEZ</th>\n",
              "      <td>0</td>\n",
              "      <td>0.000000</td>\n",
              "    </tr>\n",
              "  </tbody>\n",
              "</table>\n",
              "</div>"
            ],
            "text/plain": [
              "                        Total   Percent\n",
              "NU_NOTA_CN                 53  0.003923\n",
              "NU_NOTA_CH                 53  0.003923\n",
              "Q047                        0  0.000000\n",
              "TP_DEPENDENCIA_ADM_ESC      0  0.000000\n",
              "IN_IDOSO                    0  0.000000\n",
              "IN_GESTANTE                 0  0.000000\n",
              "IN_SABATISTA                0  0.000000\n",
              "IN_DISCALCULIA              0  0.000000\n",
              "IN_DISLEXIA                 0  0.000000\n",
              "IN_SURDEZ                   0  0.000000"
            ]
          },
          "metadata": {
            "tags": []
          },
          "execution_count": 43
        }
      ]
    },
    {
      "cell_type": "markdown",
      "metadata": {
        "id": "G8XIxIqFbGx0",
        "colab_type": "text"
      },
      "source": [
        "So there are still two features with missing values, 'NU_NOTA_CN' and 'NU_NOTA_CH'. These features are the grades of the tests applied in the same day, so they have the exact same number of NaNs. As they are numeric features, we will treat these NaNs with the value -100."
      ]
    },
    {
      "cell_type": "code",
      "metadata": {
        "id": "doT5ahKBbGx1",
        "colab_type": "code",
        "colab": {}
      },
      "source": [
        "df_merge['NU_NOTA_CN'].fillna(-100,inplace=True)\n",
        "df_merge['NU_NOTA_CH'].fillna(-100,inplace=True)"
      ],
      "execution_count": 0,
      "outputs": []
    },
    {
      "cell_type": "code",
      "metadata": {
        "id": "7o3PJBo7bGx4",
        "colab_type": "code",
        "colab": {
          "base_uri": "https://localhost:8080/",
          "height": 51
        },
        "outputId": "93a90070-3e35-4cd5-808c-937a9d07d806"
      },
      "source": [
        "print('\\nIs there any NaN value  left in the dataset?:',df_merge.isnull().sum().any())"
      ],
      "execution_count": 45,
      "outputs": [
        {
          "output_type": "stream",
          "text": [
            "\n",
            "Is there any NaN value  left in the dataset?: False\n"
          ],
          "name": "stdout"
        }
      ]
    },
    {
      "cell_type": "markdown",
      "metadata": {
        "id": "670IDCRKbGx-",
        "colab_type": "text"
      },
      "source": [
        "### LabelEncoder of the categorical values"
      ]
    },
    {
      "cell_type": "code",
      "metadata": {
        "id": "PHrzS6TGbGx-",
        "colab_type": "code",
        "colab": {}
      },
      "source": [
        "qualitative_features = [f for f in df_merge.columns \n",
        "                        if (df_merge[f].dtypes == object) | (df_merge[f].dtypes == bool)] #Lista de Features Qualitativas.\n",
        "quantitative_features = [f for f in df_merge.dropna().columns \n",
        "                         if (df_merge[f].dtypes != object) & (df_merge[f].dtypes != bool)] #Lista de Features Qualitativas.\n",
        "\n",
        "from collections import defaultdict\n",
        "from sklearn.preprocessing import LabelEncoder\n",
        "d = defaultdict(LabelEncoder)\n",
        "### Encoding the variable\n",
        "fit = df_merge[qualitative_features].apply(lambda x: d[x.name].fit_transform(x))\n",
        "df_merge[qualitative_features] = fit"
      ],
      "execution_count": 0,
      "outputs": []
    },
    {
      "cell_type": "markdown",
      "metadata": {
        "id": "yUuc8ZFWbGyA",
        "colab_type": "text"
      },
      "source": [
        "### Restore datraframes df_train and df_test"
      ]
    },
    {
      "cell_type": "code",
      "metadata": {
        "id": "wTxBtELSbGyA",
        "colab_type": "code",
        "colab": {}
      },
      "source": [
        "df_train = df_merge[:len(df_train)]\n",
        "df_train[target] = y_train.tolist()\n",
        "df_test = df_merge[len(df_train):]"
      ],
      "execution_count": 0,
      "outputs": []
    },
    {
      "cell_type": "markdown",
      "metadata": {
        "id": "XjOvYePXbGyE",
        "colab_type": "text"
      },
      "source": [
        "### Division between X_train,X_val,y_train,y_val"
      ]
    },
    {
      "cell_type": "code",
      "metadata": {
        "id": "XAepSI4bbGyE",
        "colab_type": "code",
        "colab": {}
      },
      "source": [
        "from sklearn.utils import shuffle\n",
        "from sklearn.model_selection import train_test_split\n",
        "\n",
        "size_test = 0.3\n",
        "df_train = shuffle(df_train) #shuffle data before division\n",
        "train_target = df_train[target] # Just for code readibility\n",
        "predictors = df_train.drop(target, axis=1)\n",
        "X_train, X_val, y_train, y_val = train_test_split(predictors, \n",
        "                                                    train_target,\n",
        "                                                    train_size=1-size_test, \n",
        "                                                    test_size=size_test, \n",
        "                                                    random_state=0)\n",
        "X_test = df_test"
      ],
      "execution_count": 0,
      "outputs": []
    },
    {
      "cell_type": "markdown",
      "metadata": {
        "id": "YZnPpn3XbGyI",
        "colab_type": "text"
      },
      "source": [
        "### Create and Train LGBModel"
      ]
    },
    {
      "cell_type": "code",
      "metadata": {
        "id": "UbJ8cjKsbGyL",
        "colab_type": "code",
        "colab": {
          "base_uri": "https://localhost:8080/",
          "height": 289
        },
        "outputId": "d62b324a-3285-428a-eff7-3b1f9c02504d"
      },
      "source": [
        "# Custom function to run light gbm model\n",
        "import lightgbm as lgb\n",
        "def run_lgb(train_X, train_y, val_X, val_y, test_X):\n",
        "    params = {\n",
        "        \"objective\" : \"regression\",\n",
        "        \"metric\" : \"rmse\",\n",
        "        \"n_estimators\":1000,\n",
        "        \"num_leaves\" : 30,\n",
        "        \"min_child_samples\" : 30,\n",
        "        \"learning_rate\" : 0.005,\n",
        "        \"verbosity\" : -1\n",
        "    }\n",
        "    \n",
        "    lgtrain = lgb.Dataset(train_X, label=train_y)\n",
        "    lgval = lgb.Dataset(val_X, label=val_y)\n",
        "    print('\\nTraining LGBM...')\n",
        "    model = lgb.train(params, lgtrain, 8000, valid_sets=[lgval], early_stopping_rounds=100, verbose_eval=100)\n",
        "    \n",
        "    pred_test_y = model.predict(test_X, num_iteration=model.best_iteration)\n",
        "    return pred_test_y, model\n",
        "\n",
        "# Training the model #\n",
        "pred_lgb, lgb_model = run_lgb(X_train, y_train, X_val, y_val, X_test)\n",
        "y_train_lgb = lgb_model.predict(X_train)\n",
        "y_val_lgb = lgb_model.predict(X_val)\n",
        "print('End Training LGBM...')"
      ],
      "execution_count": 49,
      "outputs": [
        {
          "output_type": "stream",
          "text": [
            "\n",
            "Training LGBM...\n",
            "Training until validation scores don't improve for 100 rounds.\n",
            "[100]\tvalid_0's rmse: 83.6735\n",
            "[200]\tvalid_0's rmse: 77.2775\n",
            "[300]\tvalid_0's rmse: 74.6259\n",
            "[400]\tvalid_0's rmse: 73.5705\n",
            "[500]\tvalid_0's rmse: 73.1334\n",
            "[600]\tvalid_0's rmse: 72.9014\n",
            "[700]\tvalid_0's rmse: 72.7978\n",
            "[800]\tvalid_0's rmse: 72.7059\n",
            "[900]\tvalid_0's rmse: 72.6658\n",
            "[1000]\tvalid_0's rmse: 72.6541\n",
            "Did not meet early stopping. Best iteration is:\n",
            "[951]\tvalid_0's rmse: 72.6497\n",
            "End Training LGBM...\n"
          ],
          "name": "stdout"
        }
      ]
    },
    {
      "cell_type": "markdown",
      "metadata": {
        "id": "OjoCJcsZbGyO",
        "colab_type": "text"
      },
      "source": [
        "### Feature Importance for LGBM"
      ]
    },
    {
      "cell_type": "code",
      "metadata": {
        "id": "pWPAowBzbGyP",
        "colab_type": "code",
        "colab": {
          "base_uri": "https://localhost:8080/",
          "height": 841
        },
        "outputId": "9cf87bf8-6670-4970-a843-cf77bde3283f"
      },
      "source": [
        "fig, ax = plt.subplots(figsize=(9,14))\n",
        "lgb.plot_importance(lgb_model, max_num_features=50, height=0.8, ax=ax)\n",
        "ax.grid(False)\n",
        "plt.title(\"LightGBM - Feature Importance\", fontsize=15)\n",
        "plt.show()"
      ],
      "execution_count": 50,
      "outputs": [
        {
          "output_type": "display_data",
          "data": {
            "image/png": "[encoded data removed]",
            "text/plain": [
              "<Figure size 648x1008 with 1 Axes>"
            ]
          },
          "metadata": {
            "tags": []
          }
        }
      ]
    },
    {
      "cell_type": "markdown",
      "metadata": {
        "id": "MQyFseLNbGyS",
        "colab_type": "text"
      },
      "source": [
        "### Build Results DFs for plotting"
      ]
    },
    {
      "cell_type": "code",
      "metadata": {
        "id": "i72b7zI2bGyT",
        "colab_type": "code",
        "colab": {}
      },
      "source": [
        "df_resultado_train = pd.DataFrame(\n",
        "        {\n",
        "         'y_train':y_train.astype(float),\n",
        "         'y_train_lgb':y_train_lgb.astype(float),\n",
        "                })\n",
        "\n",
        "df_resultado_val = pd.DataFrame(\n",
        "        {\n",
        "         'y_val':y_val.astype(float),  \n",
        "         'y_val_lgb':y_val_lgb.astype(float),\n",
        "                })"
      ],
      "execution_count": 0,
      "outputs": []
    },
    {
      "cell_type": "code",
      "metadata": {
        "id": "xvj7Szy8bGyV",
        "colab_type": "code",
        "colab": {
          "base_uri": "https://localhost:8080/",
          "height": 530
        },
        "outputId": "53afd053-5869-4cfe-8581-81557e21b752"
      },
      "source": [
        "# Plots\n",
        "import matplotlib.pyplot as plt\n",
        "plt.figure(1)\n",
        "df_resultado_val.sort_values('y_val_lgb',inplace=True)\n",
        "df_resultado_val.sort_values('y_val',inplace=True)\n",
        "plt.plot(df_resultado_val['y_val'].tolist(),'r',label='y_val')\n",
        "plt.plot(df_resultado_val['y_val_lgb'].tolist(),'b-.',label='LGB')\n",
        "plt.legend()\n",
        "\n",
        "plt.figure(2)\n",
        "df_resultado_train.sort_values('y_train_lgb',inplace=True)\n",
        "df_resultado_train.sort_values('y_train',inplace=True)\n",
        "plt.plot(df_resultado_train['y_train'].tolist(),'r-',label='y_train')\n",
        "plt.plot(df_resultado_train['y_train_lgb'].tolist(),'b-.',label='LGB')\n",
        "plt.legend()"
      ],
      "execution_count": 52,
      "outputs": [
        {
          "output_type": "execute_result",
          "data": {
            "text/plain": [
              "<matplotlib.legend.Legend at 0x7f71d945d710>"
            ]
          },
          "metadata": {
            "tags": []
          },
          "execution_count": 52
        },
        {
          "output_type": "display_data",
          "data": {
            "image/png": "[encoded data removed]",
            "text/plain": [
              "<Figure size 432x288 with 1 Axes>"
            ]
          },
          "metadata": {
            "tags": []
          }
        },
        {
          "output_type": "display_data",
          "data": {
            "image/png": "[encoded data removed]",
            "text/plain": [
              "<Figure size 432x288 with 1 Axes>"
            ]
          },
          "metadata": {
            "tags": []
          }
        }
      ]
    },
    {
      "cell_type": "markdown",
      "metadata": {
        "id": "0b0q12KGbGyX",
        "colab_type": "text"
      },
      "source": [
        "### Conclusions and Notes"
      ]
    },
    {
      "cell_type": "markdown",
      "metadata": {
        "id": "XIIdW4xTbGyX",
        "colab_type": "text"
      },
      "source": [
        "Our Model performance in blue is definately not Ideal, it is generalizing speacially badly at low values (close to zero). Maybe an  Outliers analisys could help our model with this particular behaviour. Another ML methods could be compared to LightGB aswell.\n",
        "\n",
        "Another topic that could definatelly improve our model is feature engineering."
      ]
    },
    {
      "cell_type": "markdown",
      "metadata": {
        "id": "wLi7ugHXbGyX",
        "colab_type": "text"
      },
      "source": [
        "### Submission CSV File Creation"
      ]
    },
    {
      "cell_type": "code",
      "metadata": {
        "id": "HYKQx6HGbGyY",
        "colab_type": "code",
        "colab": {}
      },
      "source": [
        "prediction = lgb_model.predict(X_test)"
      ],
      "execution_count": 0,
      "outputs": []
    },
    {
      "cell_type": "code",
      "metadata": {
        "id": "MYJQb3RkbGzg",
        "colab_type": "code",
        "colab": {}
      },
      "source": [
        "df_saida = pd.DataFrame(\n",
        "        {'NU_INSCRICAO':list(test_id)+list(NaNs_ID),\n",
        "         'NU_NOTA_MT':list(prediction)+[np.nan]*len(NaNs_ID)\n",
        "                })"
      ],
      "execution_count": 0,
      "outputs": []
    },
    {
      "cell_type": "code",
      "metadata": {
        "id": "9R3RQGvvbGzi",
        "colab_type": "code",
        "colab": {
          "base_uri": "https://localhost:8080/",
          "height": 419
        },
        "outputId": "b4fd1361-c89a-421a-a33c-75d24c5fa386"
      },
      "source": [
        "df_saida"
      ],
      "execution_count": 55,
      "outputs": [
        {
          "output_type": "execute_result",
          "data": {
            "text/html": [
              "<div>\n",
              "<style scoped>\n",
              "    .dataframe tbody tr th:only-of-type {\n",
              "        vertical-align: middle;\n",
              "    }\n",
              "\n",
              "    .dataframe tbody tr th {\n",
              "        vertical-align: top;\n",
              "    }\n",
              "\n",
              "    .dataframe thead th {\n",
              "        text-align: right;\n",
              "    }\n",
              "</style>\n",
              "<table border=\"1\" class=\"dataframe\">\n",
              "  <thead>\n",
              "    <tr style=\"text-align: right;\">\n",
              "      <th></th>\n",
              "      <th>NU_INSCRICAO</th>\n",
              "      <th>NU_NOTA_MT</th>\n",
              "    </tr>\n",
              "  </thead>\n",
              "  <tbody>\n",
              "    <tr>\n",
              "      <th>0</th>\n",
              "      <td>73ff9fcc02f0a99919906c942c2e1a1042cdcf98</td>\n",
              "      <td>440.810176</td>\n",
              "    </tr>\n",
              "    <tr>\n",
              "      <th>1</th>\n",
              "      <td>71a95f9f1b91a82c65ad94abbdf9f54e6066f968</td>\n",
              "      <td>445.092231</td>\n",
              "    </tr>\n",
              "    <tr>\n",
              "      <th>2</th>\n",
              "      <td>b38a03232f43b11c9d0788abaf060f7366053b6d</td>\n",
              "      <td>587.614511</td>\n",
              "    </tr>\n",
              "    <tr>\n",
              "      <th>3</th>\n",
              "      <td>715494628a50142ce8cb17191cfe6d0f3cae0934</td>\n",
              "      <td>576.324946</td>\n",
              "    </tr>\n",
              "    <tr>\n",
              "      <th>4</th>\n",
              "      <td>e656d6bad65c93fb2880f1eba5037008c8e75774</td>\n",
              "      <td>477.355561</td>\n",
              "    </tr>\n",
              "    <tr>\n",
              "      <th>...</th>\n",
              "      <td>...</td>\n",
              "      <td>...</td>\n",
              "    </tr>\n",
              "    <tr>\n",
              "      <th>4571</th>\n",
              "      <td>098eabcd83d72785beca4cdff3d5cfbc71904a48</td>\n",
              "      <td>NaN</td>\n",
              "    </tr>\n",
              "    <tr>\n",
              "      <th>4572</th>\n",
              "      <td>b8ec140a86a7a6e569f3eda9ae9083183ca2e386</td>\n",
              "      <td>NaN</td>\n",
              "    </tr>\n",
              "    <tr>\n",
              "      <th>4573</th>\n",
              "      <td>40a9b86a4efdd7ab5ee6fc26de9a984946896deb</td>\n",
              "      <td>NaN</td>\n",
              "    </tr>\n",
              "    <tr>\n",
              "      <th>4574</th>\n",
              "      <td>ec73ba109d1a91299e071b2a95f79c36c1c6e069</td>\n",
              "      <td>NaN</td>\n",
              "    </tr>\n",
              "    <tr>\n",
              "      <th>4575</th>\n",
              "      <td>adf0d15b54317b6564ef56dad2b775bbb0ef50cc</td>\n",
              "      <td>NaN</td>\n",
              "    </tr>\n",
              "  </tbody>\n",
              "</table>\n",
              "<p>4576 rows × 2 columns</p>\n",
              "</div>"
            ],
            "text/plain": [
              "                                  NU_INSCRICAO  NU_NOTA_MT\n",
              "0     73ff9fcc02f0a99919906c942c2e1a1042cdcf98  440.810176\n",
              "1     71a95f9f1b91a82c65ad94abbdf9f54e6066f968  445.092231\n",
              "2     b38a03232f43b11c9d0788abaf060f7366053b6d  587.614511\n",
              "3     715494628a50142ce8cb17191cfe6d0f3cae0934  576.324946\n",
              "4     e656d6bad65c93fb2880f1eba5037008c8e75774  477.355561\n",
              "...                                        ...         ...\n",
              "4571  098eabcd83d72785beca4cdff3d5cfbc71904a48         NaN\n",
              "4572  b8ec140a86a7a6e569f3eda9ae9083183ca2e386         NaN\n",
              "4573  40a9b86a4efdd7ab5ee6fc26de9a984946896deb         NaN\n",
              "4574  ec73ba109d1a91299e071b2a95f79c36c1c6e069         NaN\n",
              "4575  adf0d15b54317b6564ef56dad2b775bbb0ef50cc         NaN\n",
              "\n",
              "[4576 rows x 2 columns]"
            ]
          },
          "metadata": {
            "tags": []
          },
          "execution_count": 55
        }
      ]
    },
    {
      "cell_type": "markdown",
      "metadata": {
        "id": "DcYs9taqbGzz",
        "colab_type": "text"
      },
      "source": [
        "### Submit Solution"
      ]
    },
    {
      "cell_type": "code",
      "metadata": {
        "id": "_E18b9RWbGz0",
        "colab_type": "code",
        "colab": {}
      },
      "source": [
        "df_saida.to_csv(r'answer.csv',index=False)"
      ],
      "execution_count": 0,
      "outputs": []
    }
  ]
}